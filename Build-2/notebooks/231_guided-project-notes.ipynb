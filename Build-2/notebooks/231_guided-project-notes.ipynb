{
 "cells": [
  {
   "cell_type": "markdown",
   "metadata": {},
   "source": [
    "Lambda School Data Science\n",
    "\n",
    "*Unit 2, Sprint 3, Module 1*\n",
    "\n",
    "---"
   ]
  },
  {
   "cell_type": "code",
   "execution_count": 29,
   "metadata": {},
   "outputs": [],
   "source": [
    "%%capture\n",
    "import sys\n",
    "\n",
    "# If you're on Colab:\n",
    "if 'google.colab' in sys.modules:\n",
    "    DATA_PATH = 'https://raw.githubusercontent.com/LambdaSchool/DS-Unit-2-Applied-Modeling/master/data/'\n",
    "    !pip install category_encoders==2.*\n",
    "\n",
    "# If you're working locally:\n",
    "else:\n",
    "    DATA_PATH = '../data/'"
   ]
  },
  {
   "cell_type": "markdown",
   "metadata": {},
   "source": [
    "# Define ML problems\n",
    "- Choose a target to predict, and check its distribution\n",
    "- Avoid leakage of information from test to train or from target to features\n",
    "- Choose an appropriate evaluation metric\n"
   ]
  },
  {
   "cell_type": "markdown",
   "metadata": {},
   "source": [
    "# Wrangle Data\n",
    "\n",
    "## Import Data"
   ]
  },
  {
   "cell_type": "code",
   "execution_count": 30,
   "metadata": {},
   "outputs": [],
   "source": [
    "import pandas as pd\n",
    "df = pd.read_csv(DATA_PATH+'burritos/burritos.csv', \n",
    "                 parse_dates=['Date'],\n",
    "                 index_col='Date')"
   ]
  },
  {
   "cell_type": "markdown",
   "metadata": {},
   "source": [
    "## EDA\n",
    "\n",
    "Issues:\n",
    "\n",
    "- Lot `NaN` values (Antony)\n",
    "- Sparse features (Ben)\n",
    "- Columns with `'x'` instead of `1` (Jacob)\n",
    "- High cardinality columns"
   ]
  },
  {
   "cell_type": "code",
   "execution_count": 31,
   "metadata": {},
   "outputs": [],
   "source": [
    "def wrangle(df):\n",
    "    df = df.copy()\n",
    "    \n",
    "    # We know that we can't use rows where there's no target\n",
    "    df = df.dropna(subset=['overall'])\n",
    "    \n",
    "    # Create `'great'` column as target\n",
    "    df['great'] = (df['overall'] >= 4).astype(int)\n",
    "    \n",
    "    # Drop the old target\n",
    "    df.drop(columns=['overall', 'Rec'], inplace=True)\n",
    "    \n",
    "    # OHE wonky coluomns\n",
    "    ohe_cats = df.select_dtypes('object').nunique()\n",
    "    ohe_cols = [col for col in ohe_cats.index if ohe_cats[col] <= 2]\n",
    "    for col in ohe_cols:\n",
    "        df[col] = df[col].str.lower().apply(lambda x: 1 if x=='x' else 0)\n",
    "    \n",
    "    # Identify and drop high-cardinality columns\n",
    "    threshold = 10\n",
    "    unique_cats = df.select_dtypes('object').nunique()\n",
    "    high_card_cols = [col for col in unique_cats.index if unique_cats[col] > threshold]\n",
    "    df = df.drop(high_card_cols, axis=1)\n",
    "    \n",
    "    # Dropping columns with high number of NaN values\n",
    "    df = df.dropna(axis=1, thresh=400)\n",
    "    \n",
    "    return df"
   ]
  },
  {
   "cell_type": "code",
   "execution_count": 32,
   "metadata": {},
   "outputs": [],
   "source": [
    "df = wrangle(df)"
   ]
  },
  {
   "cell_type": "markdown",
   "metadata": {},
   "source": [
    "# Split Data"
   ]
  },
  {
   "cell_type": "code",
   "execution_count": 38,
   "metadata": {},
   "outputs": [
    {
     "name": "stdout",
     "output_type": "stream",
     "text": [
      "<class 'pandas.core.frame.DataFrame'>\n",
      "DatetimeIndex: 421 entries, 2016-01-18 to 2019-08-27\n",
      "Data columns (total 47 columns):\n",
      " #   Column         Non-Null Count  Dtype  \n",
      "---  ------         --------------  -----  \n",
      " 0   Cost           414 non-null    float64\n",
      " 1   Hunger         418 non-null    float64\n",
      " 2   Tortilla       421 non-null    float64\n",
      " 3   Temp           401 non-null    float64\n",
      " 4   Meat           407 non-null    float64\n",
      " 5   Fillings       418 non-null    float64\n",
      " 6   Meat:filling   412 non-null    float64\n",
      " 7   Uniformity     419 non-null    float64\n",
      " 8   Synergy        419 non-null    float64\n",
      " 9   Wrap           418 non-null    float64\n",
      " 10  Unreliable     421 non-null    int64  \n",
      " 11  NonSD          421 non-null    int64  \n",
      " 12  Beef           421 non-null    int64  \n",
      " 13  Pico           421 non-null    int64  \n",
      " 14  Guac           421 non-null    int64  \n",
      " 15  Cheese         421 non-null    int64  \n",
      " 16  Fries          421 non-null    int64  \n",
      " 17  Sour cream     421 non-null    int64  \n",
      " 18  Pork           421 non-null    int64  \n",
      " 19  Chicken        421 non-null    int64  \n",
      " 20  Shrimp         421 non-null    int64  \n",
      " 21  Fish           421 non-null    int64  \n",
      " 22  Rice           421 non-null    int64  \n",
      " 23  Beans          421 non-null    int64  \n",
      " 24  Lettuce        421 non-null    int64  \n",
      " 25  Tomato         421 non-null    int64  \n",
      " 26  Bell peper     421 non-null    int64  \n",
      " 27  Carrots        421 non-null    int64  \n",
      " 28  Cabbage        421 non-null    int64  \n",
      " 29  Sauce          421 non-null    int64  \n",
      " 30  Salsa.1        421 non-null    int64  \n",
      " 31  Cilantro       421 non-null    int64  \n",
      " 32  Onion          421 non-null    int64  \n",
      " 33  Taquito        421 non-null    int64  \n",
      " 34  Pineapple      421 non-null    int64  \n",
      " 35  Ham            421 non-null    int64  \n",
      " 36  Chile relleno  421 non-null    int64  \n",
      " 37  Nopales        421 non-null    int64  \n",
      " 38  Lobster        421 non-null    int64  \n",
      " 39  Egg            421 non-null    int64  \n",
      " 40  Mushroom       421 non-null    int64  \n",
      " 41  Bacon          421 non-null    int64  \n",
      " 42  Sushi          421 non-null    int64  \n",
      " 43  Avocado        421 non-null    int64  \n",
      " 44  Corn           421 non-null    int64  \n",
      " 45  Zucchini       421 non-null    int64  \n",
      " 46  great          421 non-null    int64  \n",
      "dtypes: float64(10), int64(37)\n",
      "memory usage: 157.9 KB\n"
     ]
    }
   ],
   "source": [
    "df.info()"
   ]
  },
  {
   "cell_type": "markdown",
   "metadata": {},
   "source": [
    "Split target vector from feature matrix"
   ]
  },
  {
   "cell_type": "code",
   "execution_count": 35,
   "metadata": {},
   "outputs": [],
   "source": [
    "target = 'great'\n",
    "y = df[target]\n",
    "X = df.drop(target, axis=1)"
   ]
  },
  {
   "cell_type": "markdown",
   "metadata": {},
   "source": [
    "Split dataset into training, validation, and test sets"
   ]
  },
  {
   "cell_type": "code",
   "execution_count": 44,
   "metadata": {},
   "outputs": [],
   "source": [
    "training_set = df[df.index.year < 2017]\n",
    "validation_set = df[df.index.year == 2017]\n",
    "testing_set = df[df.index.year > 2017]\n",
    "\n",
    "train_mask = X.index.year < 2017\n",
    "X_train, y_train = X.loc[train_mask], y.loc[train_mask]\n",
    "\n",
    "validation_mask = X.index.year == 2017\n",
    "X_val, y_val = X.loc[validation_mask], y.loc[validation_mask]\n",
    "\n",
    "test_mask = X.index.year > 2017\n",
    "X_test, y_test = X.loc[test_mask], y.loc[test_mask]"
   ]
  },
  {
   "cell_type": "code",
   "execution_count": 45,
   "metadata": {},
   "outputs": [
    {
     "name": "stdout",
     "output_type": "stream",
     "text": [
      "298\n",
      "85\n",
      "38\n"
     ]
    }
   ],
   "source": [
    "print(len(X_train))\n",
    "print(len(X_val))\n",
    "print(len(X_test))"
   ]
  },
  {
   "cell_type": "markdown",
   "metadata": {},
   "source": [
    "# Establish Baseline"
   ]
  },
  {
   "cell_type": "code",
   "execution_count": 46,
   "metadata": {},
   "outputs": [
    {
     "name": "stdout",
     "output_type": "stream",
     "text": [
      "Baseline accuracy: 0.5906040268456376\n"
     ]
    }
   ],
   "source": [
    "print('Baseline accuracy:', y_train.value_counts(normalize=True).max())"
   ]
  },
  {
   "cell_type": "markdown",
   "metadata": {},
   "source": [
    "# Build Model\n",
    "\n",
    "- Model 1: Random Forest\n",
    "- Model 2: Logistic Regression"
   ]
  },
  {
   "cell_type": "code",
   "execution_count": 59,
   "metadata": {},
   "outputs": [],
   "source": [
    "from sklearn.pipeline import make_pipeline\n",
    "from sklearn.impute import SimpleImputer\n",
    "from sklearn.ensemble import RandomForestClassifier\n",
    "from sklearn.linear_model import LogisticRegression\n",
    "from sklearn.preprocessing import StandardScaler\n",
    "from sklearn.metrics import classification_report, plot_confusion_matrix, plot_roc_curve\n",
    "import matplotlib.pyplot as plt"
   ]
  },
  {
   "cell_type": "code",
   "execution_count": 53,
   "metadata": {},
   "outputs": [],
   "source": [
    "# Model 1: Random Forest\n",
    "model_rf = make_pipeline(\n",
    "    SimpleImputer(),\n",
    "    RandomForestClassifier()\n",
    ")\n",
    "\n",
    "model_rf.fit(X_train, y_train);"
   ]
  },
  {
   "cell_type": "code",
   "execution_count": 56,
   "metadata": {},
   "outputs": [],
   "source": [
    "# Model 2: Logistic Regresion\n",
    "model_lr = make_pipeline(\n",
    "    SimpleImputer(),\n",
    "    StandardScaler(),\n",
    "    LogisticRegression()\n",
    ")\n",
    "\n",
    "model_lr.fit(X_train, y_train);"
   ]
  },
  {
   "cell_type": "markdown",
   "metadata": {},
   "source": [
    "# Check Metrics"
   ]
  },
  {
   "cell_type": "markdown",
   "metadata": {},
   "source": [
    "Accuracy"
   ]
  },
  {
   "cell_type": "code",
   "execution_count": 57,
   "metadata": {
    "scrolled": true
   },
   "outputs": [
    {
     "name": "stdout",
     "output_type": "stream",
     "text": [
      "Training Accuracy (RF): 1.0\n",
      "Validation Accuracy (RF): 0.8588235294117647\n"
     ]
    }
   ],
   "source": [
    "print('Training Accuracy (RF):', model_rf.score(X_train, y_train))\n",
    "print('Validation Accuracy (RF):', model_rf.score(X_val, y_val))"
   ]
  },
  {
   "cell_type": "code",
   "execution_count": 58,
   "metadata": {},
   "outputs": [
    {
     "name": "stdout",
     "output_type": "stream",
     "text": [
      "Training Accuracy (LOGR): 0.912751677852349\n",
      "Validation Accuracy (LOGR): 0.788235294117647\n"
     ]
    }
   ],
   "source": [
    "print('Training Accuracy (LOGR):', model_lr.score(X_train, y_train))\n",
    "print('Validation Accuracy (LOGR):', model_lr.score(X_val, y_val))"
   ]
  },
  {
   "cell_type": "markdown",
   "metadata": {},
   "source": [
    "Classification Report"
   ]
  },
  {
   "cell_type": "code",
   "execution_count": 60,
   "metadata": {},
   "outputs": [
    {
     "name": "stdout",
     "output_type": "stream",
     "text": [
      "Random Forest\n",
      "              precision    recall  f1-score   support\n",
      "\n",
      "           0       0.91      0.83      0.87        47\n",
      "           1       0.81      0.89      0.85        38\n",
      "\n",
      "    accuracy                           0.86        85\n",
      "   macro avg       0.86      0.86      0.86        85\n",
      "weighted avg       0.86      0.86      0.86        85\n",
      "\n"
     ]
    }
   ],
   "source": [
    "# On validation data only\n",
    "print('Random Forest')\n",
    "print(classification_report(y_val, model_rf.predict(X_val)))"
   ]
  },
  {
   "cell_type": "code",
   "execution_count": 61,
   "metadata": {},
   "outputs": [
    {
     "name": "stdout",
     "output_type": "stream",
     "text": [
      "Logistic Regression\n",
      "              precision    recall  f1-score   support\n",
      "\n",
      "           0       0.89      0.70      0.79        47\n",
      "           1       0.71      0.89      0.79        38\n",
      "\n",
      "    accuracy                           0.79        85\n",
      "   macro avg       0.80      0.80      0.79        85\n",
      "weighted avg       0.81      0.79      0.79        85\n",
      "\n"
     ]
    }
   ],
   "source": [
    "print('Logistic Regression')\n",
    "print(classification_report(y_val, model_lr.predict(X_val)))"
   ]
  },
  {
   "cell_type": "markdown",
   "metadata": {},
   "source": [
    "ROC Curve"
   ]
  },
  {
   "cell_type": "code",
   "execution_count": 70,
   "metadata": {},
   "outputs": [
    {
     "data": {
      "image/png": "[encoded data removed]",
      "text/plain": [
       "<Figure size 864x360 with 2 Axes>"
      ]
     },
     "metadata": {
      "needs_background": "light"
     },
     "output_type": "display_data"
    }
   ],
   "source": [
    "# How to plot side-by-side figures\n",
    "## Create subplots\n",
    "fig, (ax1, ax2) = plt.subplots(ncols=2, nrows=1, figsize=(12,5))\n",
    "\n",
    "## Plot ROC curves\n",
    "plot_roc_curve(model_rf, X_val, y_val, ax=ax1)\n",
    "plot_roc_curve(model_lr, X_val, y_val, ax=ax2)\n",
    "\n",
    "## Plot center lines\n",
    "ax1.plot([(0,0), (1,1)], color='grey', linestyle='--')\n",
    "ax2.plot([(0,0), (1,1)], color='grey', linestyle='--')\n",
    "\n",
    "## Set titles\n",
    "ax1.set_title('Random Forest')\n",
    "ax2.set_title('Logistic Regression')\n",
    "\n",
    "plt.show()"
   ]
  },
  {
   "cell_type": "code",
   "execution_count": 71,
   "metadata": {},
   "outputs": [
    {
     "data": {
      "image/png": "[encoded data removed]",
      "text/plain": [
       "<Figure size 432x288 with 1 Axes>"
      ]
     },
     "metadata": {
      "needs_background": "light"
     },
     "output_type": "display_data"
    }
   ],
   "source": [
    "rf = plot_roc_curve(model_rf, X_val, y_val)\n",
    "lr = plot_roc_curve(model_lr, X_val, y_val, ax=rf.ax_)\n",
    "plt.show();"
   ]
  },
  {
   "cell_type": "code",
   "execution_count": null,
   "metadata": {},
   "outputs": [],
   "source": []
  }
 ],
 "metadata": {
  "kernelspec": {
   "display_name": "Python 3",
   "language": "python",
   "name": "python3"
  },
  "language_info": {
   "codemirror_mode": {
    "name": "ipython",
    "version": 3
   },
   "file_extension": ".py",
   "mimetype": "text/x-python",
   "name": "python",
   "nbconvert_exporter": "python",
   "pygments_lexer": "ipython3",
   "version": "3.8.5"
  }
 },
 "nbformat": 4,
 "nbformat_minor": 4
}
